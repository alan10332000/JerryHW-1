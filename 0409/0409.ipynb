{
 "cells": [
  {
   "cell_type": "markdown",
   "metadata": {},
   "source": [
    "# Exercise"
   ]
  },
  {
   "cell_type": "code",
   "execution_count": 23,
   "metadata": {},
   "outputs": [
    {
     "name": "stdout",
     "output_type": "stream",
     "text": [
      "jerry\n"
     ]
    }
   ],
   "source": [
    "class Person():\n",
    "    def __init__(self, name):\n",
    "        self.name = name\n",
    "        \n",
    "    def __str__(self):\n",
    "        print(self.name)\n",
    "    \n",
    "class EmailPerson(Person):\n",
    "    def __init__(self, name, email):\n",
    "        super().__init__(name)\n",
    "        self.email = email\n",
    "        \n",
    "    def __str__(self)\n",
    "    \n",
    "if __name__ == '__main__':\n",
    "    Person('jerry').__str__()\n",
    "    x = EmailPerson('owo', 'owo@owo.com')\n",
    "    "
   ]
  },
  {
   "cell_type": "code",
   "execution_count": 20,
   "metadata": {},
   "outputs": [
    {
     "name": "stdout",
     "output_type": "stream",
     "text": [
      "Not owo, I' meow\n"
     ]
    }
   ],
   "source": [
    "class Car():\n",
    "    def saying(self):\n",
    "        print('owo')\n",
    "        \n",
    "class Book(Car):\n",
    "    def saying(self):\n",
    "        print('meow')\n",
    "    \n",
    "    def owo(self):\n",
    "        print('Not owo, I\\' meow')\n",
    "        \n",
    "if __name__ == '__main__':\n",
    "    x = Book()\n",
    "    x.owo()"
   ]
  },
  {
   "cell_type": "code",
   "execution_count": null,
   "metadata": {},
   "outputs": [],
   "source": []
  },
  {
   "cell_type": "code",
   "execution_count": null,
   "metadata": {},
   "outputs": [],
   "source": []
  },
  {
   "cell_type": "code",
   "execution_count": null,
   "metadata": {},
   "outputs": [],
   "source": []
  },
  {
   "cell_type": "markdown",
   "metadata": {},
   "source": [
    "# HW 1"
   ]
  },
  {
   "cell_type": "code",
   "execution_count": 9,
   "metadata": {},
   "outputs": [
    {
     "name": "stdout",
     "output_type": "stream",
     "text": [
      "kuma\n",
      "kuma\n",
      "kuma, a, b, c, d\n"
     ]
    }
   ],
   "source": [
    "class Restaurant():\n",
    "    def __init__(self, name):\n",
    "        self.name = name\n",
    "    \n",
    "    def describe_restaurant(self):\n",
    "        print(self.name)\n",
    "        \n",
    "class IceCreamStand(Restaurant):\n",
    "    def __init__(self, favorite):\n",
    "        super(IceCreamStand, self).__init__(favorite)\n",
    "        self.flavors = ['a', 'b', 'c', 'd']\n",
    "        self.favorite = favorite\n",
    "    \n",
    "    def show_flavors(self):\n",
    "        print(', '.join([self.favorite] + self.flavors))\n",
    "        \n",
    "if __name__ == '__main__':\n",
    "    x = Restaurant('kuma')\n",
    "    x.describe_restaurant()\n",
    "    \n",
    "    x = IceCreamStand('kuma')\n",
    "    x.describe_restaurant()\n",
    "    x.show_flavors()"
   ]
  },
  {
   "cell_type": "markdown",
   "metadata": {},
   "source": [
    "# HW 2"
   ]
  },
  {
   "cell_type": "code",
   "execution_count": null,
   "metadata": {},
   "outputs": [],
   "source": [
    "class A(object):\n",
    "    def go(self):\n",
    "        print('go A go!')\n",
    "    def stop(self):\n",
    "        print('stop A stop!')\n",
    "    def pause(self):\n",
    "        raise Exception('Not Implemented')\n",
    "        \n",
    "class B(A):\n",
    "    def go(self):\n",
    "        super(B, self).go()\n",
    "        print('go B go!')\n",
    "        \n",
    "class C(A):\n",
    "    def go(self):\n",
    "        super(C, self).go()\n",
    "        print('go C go!')\n",
    "    def stop(self):\n",
    "        super(C, self).stop()\n",
    "        print('stop C stop!')\n",
    "        \n",
    "class D(B, C):\n",
    "    def go(self):\n",
    "        super(D, self).go()\n",
    "        print('go D go!')\n",
    "    def stop(self):\n",
    "        super(D, self).stop()\n",
    "        print('stop D stop!')\n",
    "    def pause(self):\n",
    "        print('wait D wait')\n",
    "    \n",
    "class E(B, C):\n",
    "    pass\n",
    "\n",
    "if __name__ == '__main__':\n",
    "    a = A()\n",
    "    b = B()\n",
    "    c = C()\n",
    "    d = D()\n",
    "    e = E()\n",
    "    \n",
    "    a.go()\n",
    "    b.go()\n",
    "    c.go()\n",
    "    d.go()\n",
    "    e.go()\n",
    "    \n",
    "    a.stop()\n",
    "    b.stop()\n",
    "    c.stop()\n",
    "    d.stop()\n",
    "    e.stop()\n",
    "    \n",
    "    a.pause()\n",
    "    b.pause()\n",
    "    c.pause()\n",
    "    d.pause()\n",
    "    e.pause()"
   ]
  }
 ],
 "metadata": {
  "kernelspec": {
   "display_name": "Python 3",
   "language": "python",
   "name": "python3"
  },
  "language_info": {
   "codemirror_mode": {
    "name": "ipython",
    "version": 3
   },
   "file_extension": ".py",
   "mimetype": "text/x-python",
   "name": "python",
   "nbconvert_exporter": "python",
   "pygments_lexer": "ipython3",
   "version": "3.6.5"
  }
 },
 "nbformat": 4,
 "nbformat_minor": 2
}
